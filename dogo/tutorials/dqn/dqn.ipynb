{
 "cells": [
  {
   "cell_type": "code",
   "execution_count": 1,
   "metadata": {},
   "outputs": [],
   "source": [
    "# Dataset\n",
    "from d3rlpy.datasets import get_cartpole \n",
    "# Algorithm\n",
    "from d3rlpy.algos import DQN\n",
    "# Metrics\n",
    "from d3rlpy.metrics.scorer import td_error_scorer\n",
    "from d3rlpy.metrics.scorer import average_value_estimation_scorer\n",
    "from d3rlpy.metrics.scorer import evaluate_on_environment\n",
    "\n",
    "from sklearn.model_selection import train_test_split"
   ]
  },
  {
   "cell_type": "markdown",
   "metadata": {},
   "source": [
    "# Model Training"
   ]
  },
  {
   "cell_type": "markdown",
   "metadata": {},
   "source": [
    "Here, we use the CartPole dataset to instantly check training results."
   ]
  },
  {
   "cell_type": "code",
   "execution_count": 2,
   "metadata": {},
   "outputs": [],
   "source": [
    "dataset, env = get_cartpole()\n",
    "train_episodes, test_episodes = train_test_split(dataset, test_size=0.2)\n",
    "dqn = DQN(use_gpu=False)"
   ]
  },
  {
   "cell_type": "markdown",
   "metadata": {},
   "source": [
    "Initialize neural networks with the given observation shape and action size. This is not necessary when you directly call fit or fit_online method."
   ]
  },
  {
   "cell_type": "code",
   "execution_count": 3,
   "metadata": {},
   "outputs": [],
   "source": [
    "dqn.build_with_dataset(dataset)"
   ]
  },
  {
   "cell_type": "markdown",
   "metadata": {},
   "source": [
    "Calculate metrics with test dataset"
   ]
  },
  {
   "cell_type": "code",
   "execution_count": 4,
   "metadata": {},
   "outputs": [],
   "source": [
    "td_error = td_error_scorer(dqn, test_episodes)"
   ]
  },
  {
   "cell_type": "markdown",
   "metadata": {},
   "source": [
    "Set environment in scorer function"
   ]
  },
  {
   "cell_type": "code",
   "execution_count": 5,
   "metadata": {},
   "outputs": [],
   "source": [
    "evaluate_scorer = evaluate_on_environment(env)"
   ]
  },
  {
   "cell_type": "markdown",
   "metadata": {},
   "source": [
    "Evaluate algorithm on the environment"
   ]
  },
  {
   "cell_type": "code",
   "execution_count": 6,
   "metadata": {},
   "outputs": [],
   "source": [
    "rewards = evaluate_scorer(dqn)"
   ]
  },
  {
   "cell_type": "markdown",
   "metadata": {},
   "source": [
    "Start training"
   ]
  },
  {
   "cell_type": "code",
   "execution_count": 7,
   "metadata": {},
   "outputs": [
    {
     "name": "stdout",
     "output_type": "stream",
     "text": [
      "2022-05-10 12:51.44 [debug    ] RoundIterator is selected.\n",
      "2022-05-10 12:51.44 [info     ] Directory is created at d3rlpy_logs/DQN_20220510125144\n",
      "2022-05-10 12:51.44 [warning  ] Skip building models since they're already built.\n",
      "2022-05-10 12:51.44 [info     ] Parameters are saved to d3rlpy_logs/DQN_20220510125144/params.json params={'action_scaler': None, 'batch_size': 32, 'encoder_factory': {'type': 'default', 'params': {'activation': 'relu', 'use_batch_norm': False, 'dropout_rate': None}}, 'gamma': 0.99, 'generated_maxlen': 100000, 'learning_rate': 6.25e-05, 'n_critics': 1, 'n_frames': 1, 'n_steps': 1, 'optim_factory': {'optim_cls': 'Adam', 'betas': (0.9, 0.999), 'eps': 1e-08, 'weight_decay': 0, 'amsgrad': False}, 'q_func_factory': {'type': 'mean', 'params': {'share_encoder': False}}, 'real_ratio': 1.0, 'reward_scaler': None, 'scaler': None, 'target_update_interval': 8000, 'use_gpu': None, 'algorithm': 'DQN', 'observation_shape': (4,), 'action_size': 2}\n"
     ]
    },
    {
     "data": {
      "application/vnd.jupyter.widget-view+json": {
       "model_id": "ee2b2c0459214df09898f7391ce43bc8",
       "version_major": 2,
       "version_minor": 0
      },
      "text/plain": [
       "HBox(children=(FloatProgress(value=0.0, description='Epoch 1/10', max=2514.0, style=ProgressStyle(description_…"
      ]
     },
     "metadata": {},
     "output_type": "display_data"
    },
    {
     "name": "stdout",
     "output_type": "stream",
     "text": [
      "\n",
      "2022-05-10 12:51.51 [info     ] DQN_20220510125144: epoch=1 step=2514 epoch=1 metrics={'time_sample_batch': 0.00011620724495195071, 'time_algorithm_update': 0.0022142446505805284, 'loss': 0.011194559461501734, 'time_step': 0.0024188707627848015, 'td_error': 0.9844668525807032, 'value_scale': 1.0447659955444977, 'environment': 11.2} step=2514\n",
      "2022-05-10 12:51.51 [info     ] Model parameters are saved to d3rlpy_logs/DQN_20220510125144/model_2514.pt\n"
     ]
    },
    {
     "data": {
      "application/vnd.jupyter.widget-view+json": {
       "model_id": "63b06731cf2349c1b32f07b4572170c2",
       "version_major": 2,
       "version_minor": 0
      },
      "text/plain": [
       "HBox(children=(FloatProgress(value=0.0, description='Epoch 2/10', max=2514.0, style=ProgressStyle(description_…"
      ]
     },
     "metadata": {},
     "output_type": "display_data"
    },
    {
     "name": "stdout",
     "output_type": "stream",
     "text": [
      "\n",
      "2022-05-10 12:51.58 [info     ] DQN_20220510125144: epoch=2 step=5028 epoch=2 metrics={'time_sample_batch': 0.00012481535059550309, 'time_algorithm_update': 0.0021508126953052164, 'loss': 3.73246886335691e-05, 'time_step': 0.002360104186817494, 'td_error': 0.9862890182657684, 'value_scale': 1.0468920218224318, 'environment': 9.8} step=5028\n",
      "2022-05-10 12:51.58 [info     ] Model parameters are saved to d3rlpy_logs/DQN_20220510125144/model_5028.pt\n"
     ]
    },
    {
     "data": {
      "application/vnd.jupyter.widget-view+json": {
       "model_id": "736c51acef464fd096da258efca2f8b0",
       "version_major": 2,
       "version_minor": 0
      },
      "text/plain": [
       "HBox(children=(FloatProgress(value=0.0, description='Epoch 3/10', max=2514.0, style=ProgressStyle(description_…"
      ]
     },
     "metadata": {},
     "output_type": "display_data"
    },
    {
     "name": "stdout",
     "output_type": "stream",
     "text": [
      "\n",
      "2022-05-10 12:52.05 [info     ] DQN_20220510125144: epoch=3 step=7542 epoch=3 metrics={'time_sample_batch': 0.00011057036209409922, 'time_algorithm_update': 0.002106637165673498, 'loss': 3.580718892105383e-05, 'time_step': 0.0022986553544171195, 'td_error': 0.9853889863979285, 'value_scale': 1.0489737394936889, 'environment': 9.3} step=7542\n",
      "2022-05-10 12:52.05 [info     ] Model parameters are saved to d3rlpy_logs/DQN_20220510125144/model_7542.pt\n"
     ]
    },
    {
     "data": {
      "application/vnd.jupyter.widget-view+json": {
       "model_id": "e0dd59c3d98c4bedab5fe2f427c8c565",
       "version_major": 2,
       "version_minor": 0
      },
      "text/plain": [
       "HBox(children=(FloatProgress(value=0.0, description='Epoch 4/10', max=2514.0, style=ProgressStyle(description_…"
      ]
     },
     "metadata": {},
     "output_type": "display_data"
    },
    {
     "name": "stdout",
     "output_type": "stream",
     "text": [
      "\n",
      "2022-05-10 12:52.12 [info     ] DQN_20220510125144: epoch=4 step=10056 epoch=4 metrics={'time_sample_batch': 0.00010690493724036994, 'time_algorithm_update': 0.002202211340552962, 'loss': 0.007335323230942474, 'time_step': 0.0023907648729917636, 'td_error': 0.9779033269410278, 'value_scale': 2.0433203454677478, 'environment': 15.4} step=10056\n",
      "2022-05-10 12:52.12 [info     ] Model parameters are saved to d3rlpy_logs/DQN_20220510125144/model_10056.pt\n"
     ]
    },
    {
     "data": {
      "application/vnd.jupyter.widget-view+json": {
       "model_id": "200944601b5b46c09528ae2b91f27bdd",
       "version_major": 2,
       "version_minor": 0
      },
      "text/plain": [
       "HBox(children=(FloatProgress(value=0.0, description='Epoch 5/10', max=2514.0, style=ProgressStyle(description_…"
      ]
     },
     "metadata": {},
     "output_type": "display_data"
    },
    {
     "name": "stdout",
     "output_type": "stream",
     "text": [
      "\n",
      "2022-05-10 12:52.19 [info     ] DQN_20220510125144: epoch=5 step=12570 epoch=5 metrics={'time_sample_batch': 0.00010073042712518878, 'time_algorithm_update': 0.002336400031284766, 'loss': 0.006751903670184446, 'time_step': 0.0025214459465530627, 'td_error': 0.984716553432055, 'value_scale': 2.031477987710578, 'environment': 15.2} step=12570\n",
      "2022-05-10 12:52.19 [info     ] Model parameters are saved to d3rlpy_logs/DQN_20220510125144/model_12570.pt\n"
     ]
    },
    {
     "data": {
      "application/vnd.jupyter.widget-view+json": {
       "model_id": "affcd93a85a342c195ea3084ff03cee4",
       "version_major": 2,
       "version_minor": 0
      },
      "text/plain": [
       "HBox(children=(FloatProgress(value=0.0, description='Epoch 6/10', max=2514.0, style=ProgressStyle(description_…"
      ]
     },
     "metadata": {},
     "output_type": "display_data"
    },
    {
     "name": "stdout",
     "output_type": "stream",
     "text": [
      "\n",
      "2022-05-10 12:52.26 [info     ] DQN_20220510125144: epoch=6 step=15084 epoch=6 metrics={'time_sample_batch': 0.00010266537313529586, 'time_algorithm_update': 0.0022703881479959782, 'loss': 0.006578138327177328, 'time_step': 0.0024565265779942867, 'td_error': 0.9957254867581926, 'value_scale': 2.0490504242197494, 'environment': 13.6} step=15084\n",
      "2022-05-10 12:52.26 [info     ] Model parameters are saved to d3rlpy_logs/DQN_20220510125144/model_15084.pt\n"
     ]
    },
    {
     "data": {
      "application/vnd.jupyter.widget-view+json": {
       "model_id": "d311e284ffb045bc8c130b57c8f81cce",
       "version_major": 2,
       "version_minor": 0
      },
      "text/plain": [
       "HBox(children=(FloatProgress(value=0.0, description='Epoch 7/10', max=2514.0, style=ProgressStyle(description_…"
      ]
     },
     "metadata": {},
     "output_type": "display_data"
    },
    {
     "name": "stdout",
     "output_type": "stream",
     "text": [
      "\n",
      "2022-05-10 12:52.33 [info     ] DQN_20220510125144: epoch=7 step=17598 epoch=7 metrics={'time_sample_batch': 9.534410189899453e-05, 'time_algorithm_update': 0.0022269415305356897, 'loss': 0.015864678236087983, 'time_step': 0.002395195342665546, 'td_error': 1.0053853179919539, 'value_scale': 3.0196696636053826, 'environment': 14.7} step=17598\n",
      "2022-05-10 12:52.33 [info     ] Model parameters are saved to d3rlpy_logs/DQN_20220510125144/model_17598.pt\n"
     ]
    },
    {
     "data": {
      "application/vnd.jupyter.widget-view+json": {
       "model_id": "cac418fb474d4131a59033f8b2b46ac9",
       "version_major": 2,
       "version_minor": 0
      },
      "text/plain": [
       "HBox(children=(FloatProgress(value=0.0, description='Epoch 8/10', max=2514.0, style=ProgressStyle(description_…"
      ]
     },
     "metadata": {},
     "output_type": "display_data"
    },
    {
     "name": "stdout",
     "output_type": "stream",
     "text": [
      "\n",
      "2022-05-10 12:52.41 [info     ] DQN_20220510125144: epoch=8 step=20112 epoch=8 metrics={'time_sample_batch': 9.41707866004088e-05, 'time_algorithm_update': 0.002229144768574547, 'loss': 0.018684730965853845, 'time_step': 0.0023954501679328668, 'td_error': 1.0079978265937157, 'value_scale': 3.0245120766055704, 'environment': 200.0} step=20112\n",
      "2022-05-10 12:52.41 [info     ] Model parameters are saved to d3rlpy_logs/DQN_20220510125144/model_20112.pt\n"
     ]
    },
    {
     "data": {
      "application/vnd.jupyter.widget-view+json": {
       "model_id": "a1a917ec2e3246ecb572e463f40d3f0a",
       "version_major": 2,
       "version_minor": 0
      },
      "text/plain": [
       "HBox(children=(FloatProgress(value=0.0, description='Epoch 9/10', max=2514.0, style=ProgressStyle(description_…"
      ]
     },
     "metadata": {},
     "output_type": "display_data"
    },
    {
     "name": "stdout",
     "output_type": "stream",
     "text": [
      "\n",
      "2022-05-10 12:52.48 [info     ] DQN_20220510125144: epoch=9 step=22626 epoch=9 metrics={'time_sample_batch': 9.942898792033169e-05, 'time_algorithm_update': 0.002313308139215316, 'loss': 0.01835772474139758, 'time_step': 0.0024843246290014204, 'td_error': 1.0099606888588577, 'value_scale': 3.025052481606954, 'environment': 36.9} step=22626\n",
      "2022-05-10 12:52.48 [info     ] Model parameters are saved to d3rlpy_logs/DQN_20220510125144/model_22626.pt\n"
     ]
    },
    {
     "data": {
      "application/vnd.jupyter.widget-view+json": {
       "model_id": "80c71977d0164c51b9447618d93bfdb8",
       "version_major": 2,
       "version_minor": 0
      },
      "text/plain": [
       "HBox(children=(FloatProgress(value=0.0, description='Epoch 10/10', max=2514.0, style=ProgressStyle(description…"
      ]
     },
     "metadata": {},
     "output_type": "display_data"
    },
    {
     "name": "stdout",
     "output_type": "stream",
     "text": [
      "\n",
      "2022-05-10 12:52.56 [info     ] DQN_20220510125144: epoch=10 step=25140 epoch=10 metrics={'time_sample_batch': 9.496636872454684e-05, 'time_algorithm_update': 0.002296350072467716, 'loss': 0.02487943174007617, 'time_step': 0.002466608155978134, 'td_error': 1.0427339407797607, 'value_scale': 3.983210044635811, 'environment': 200.0} step=25140\n",
      "2022-05-10 12:52.56 [info     ] Model parameters are saved to d3rlpy_logs/DQN_20220510125144/model_25140.pt\n"
     ]
    },
    {
     "data": {
      "text/plain": [
       "[(1,\n",
       "  {'time_sample_batch': 0.00011620724495195071,\n",
       "   'time_algorithm_update': 0.0022142446505805284,\n",
       "   'loss': 0.011194559461501734,\n",
       "   'time_step': 0.0024188707627848015,\n",
       "   'td_error': 0.9844668525807032,\n",
       "   'value_scale': 1.0447659955444977,\n",
       "   'environment': 11.2}),\n",
       " (2,\n",
       "  {'time_sample_batch': 0.00012481535059550309,\n",
       "   'time_algorithm_update': 0.0021508126953052164,\n",
       "   'loss': 3.73246886335691e-05,\n",
       "   'time_step': 0.002360104186817494,\n",
       "   'td_error': 0.9862890182657684,\n",
       "   'value_scale': 1.0468920218224318,\n",
       "   'environment': 9.8}),\n",
       " (3,\n",
       "  {'time_sample_batch': 0.00011057036209409922,\n",
       "   'time_algorithm_update': 0.002106637165673498,\n",
       "   'loss': 3.580718892105383e-05,\n",
       "   'time_step': 0.0022986553544171195,\n",
       "   'td_error': 0.9853889863979285,\n",
       "   'value_scale': 1.0489737394936889,\n",
       "   'environment': 9.3}),\n",
       " (4,\n",
       "  {'time_sample_batch': 0.00010690493724036994,\n",
       "   'time_algorithm_update': 0.002202211340552962,\n",
       "   'loss': 0.007335323230942474,\n",
       "   'time_step': 0.0023907648729917636,\n",
       "   'td_error': 0.9779033269410278,\n",
       "   'value_scale': 2.0433203454677478,\n",
       "   'environment': 15.4}),\n",
       " (5,\n",
       "  {'time_sample_batch': 0.00010073042712518878,\n",
       "   'time_algorithm_update': 0.002336400031284766,\n",
       "   'loss': 0.006751903670184446,\n",
       "   'time_step': 0.0025214459465530627,\n",
       "   'td_error': 0.984716553432055,\n",
       "   'value_scale': 2.031477987710578,\n",
       "   'environment': 15.2}),\n",
       " (6,\n",
       "  {'time_sample_batch': 0.00010266537313529586,\n",
       "   'time_algorithm_update': 0.0022703881479959782,\n",
       "   'loss': 0.006578138327177328,\n",
       "   'time_step': 0.0024565265779942867,\n",
       "   'td_error': 0.9957254867581926,\n",
       "   'value_scale': 2.0490504242197494,\n",
       "   'environment': 13.6}),\n",
       " (7,\n",
       "  {'time_sample_batch': 9.534410189899453e-05,\n",
       "   'time_algorithm_update': 0.0022269415305356897,\n",
       "   'loss': 0.015864678236087983,\n",
       "   'time_step': 0.002395195342665546,\n",
       "   'td_error': 1.0053853179919539,\n",
       "   'value_scale': 3.0196696636053826,\n",
       "   'environment': 14.7}),\n",
       " (8,\n",
       "  {'time_sample_batch': 9.41707866004088e-05,\n",
       "   'time_algorithm_update': 0.002229144768574547,\n",
       "   'loss': 0.018684730965853845,\n",
       "   'time_step': 0.0023954501679328668,\n",
       "   'td_error': 1.0079978265937157,\n",
       "   'value_scale': 3.0245120766055704,\n",
       "   'environment': 200.0}),\n",
       " (9,\n",
       "  {'time_sample_batch': 9.942898792033169e-05,\n",
       "   'time_algorithm_update': 0.002313308139215316,\n",
       "   'loss': 0.01835772474139758,\n",
       "   'time_step': 0.0024843246290014204,\n",
       "   'td_error': 1.0099606888588577,\n",
       "   'value_scale': 3.025052481606954,\n",
       "   'environment': 36.9}),\n",
       " (10,\n",
       "  {'time_sample_batch': 9.496636872454684e-05,\n",
       "   'time_algorithm_update': 0.002296350072467716,\n",
       "   'loss': 0.02487943174007617,\n",
       "   'time_step': 0.002466608155978134,\n",
       "   'td_error': 1.0427339407797607,\n",
       "   'value_scale': 3.983210044635811,\n",
       "   'environment': 200.0})]"
      ]
     },
     "execution_count": 7,
     "metadata": {},
     "output_type": "execute_result"
    }
   ],
   "source": [
    "dqn.fit(train_episodes,\n",
    "    eval_episodes=test_episodes,\n",
    "    n_epochs=10,\n",
    "    scorers={\n",
    "        'td_error': td_error_scorer,\n",
    "        'value_scale': average_value_estimation_scorer,\n",
    "        'environment': evaluate_scorer\n",
    "    }\n",
    ")"
   ]
  },
  {
   "cell_type": "markdown",
   "metadata": {},
   "source": [
    "Make decisions"
   ]
  },
  {
   "cell_type": "code",
   "execution_count": 8,
   "metadata": {},
   "outputs": [],
   "source": [
    "observation = env.reset()"
   ]
  },
  {
   "cell_type": "code",
   "execution_count": 19,
   "metadata": {},
   "outputs": [
    {
     "data": {
      "text/plain": [
       "1"
      ]
     },
     "execution_count": 19,
     "metadata": {},
     "output_type": "execute_result"
    }
   ],
   "source": [
    "action = dqn.predict([observation])[0]\n",
    "action"
   ]
  },
  {
   "cell_type": "code",
   "execution_count": 14,
   "metadata": {},
   "outputs": [
    {
     "data": {
      "text/plain": [
       "4.058762"
      ]
     },
     "execution_count": 14,
     "metadata": {},
     "output_type": "execute_result"
    }
   ],
   "source": [
    "value = dqn.predict_value([observation], [action])[0]\n",
    "value"
   ]
  },
  {
   "cell_type": "code",
   "execution_count": 10,
   "metadata": {},
   "outputs": [],
   "source": [
    "dqn.save_policy('policy.pt')"
   ]
  },
  {
   "cell_type": "markdown",
   "metadata": {},
   "source": [
    "# Policy Application"
   ]
  },
  {
   "cell_type": "code",
   "execution_count": 20,
   "metadata": {},
   "outputs": [
    {
     "name": "stdout",
     "output_type": "stream",
     "text": [
      "[-0.03849623  0.02210191 -0.03195776 -0.04903256]\n",
      "[-0.0380542   0.21766718 -0.03293841 -0.35162467]\n",
      "[-0.03370085  0.02302875 -0.03997091 -0.06950752]\n",
      "[-0.03324028  0.21870028 -0.04136106 -0.3745287 ]\n",
      "[-0.02886627  0.02418951 -0.04885163 -0.09516876]\n",
      "[-0.02838248 -0.17019947 -0.05075501  0.18171018]\n",
      "[-0.03178647 -0.3645598  -0.0471208   0.45795967]\n",
      "[-0.03907767 -0.55898504 -0.03796161  0.73542543]\n",
      "[-0.05025737 -0.75356261 -0.0232531   1.01592348]\n",
      "[-0.06532862 -0.55813844 -0.00293463  0.71603067]\n",
      "[-0.07649139 -0.75321965  0.01138598  1.00778844]\n",
      "[-0.09155578 -0.55825154  0.03154175  0.71870265]\n",
      "[-0.10272081 -0.36357992  0.0459158   0.43611219]\n",
      "[-0.10999241 -0.169137    0.05463805  0.15824972]\n",
      "[-0.11337515  0.02516186  0.05780304 -0.11670805]\n",
      "[-0.11287191  0.21941     0.05546888 -0.390609  ]\n",
      "[-0.10848371  0.41370264  0.0476567  -0.66530023]\n",
      "[-0.10020966  0.60813044  0.0343507  -0.94260505]\n",
      "[-0.08804705  0.80277311  0.01549859 -1.2242997 ]\n",
      "[-0.07199159  0.60745502 -0.0089874  -0.92680135]\n",
      "[-0.05984249  0.41245558 -0.02752343 -0.63695625]\n",
      "[-0.05159338  0.21772805 -0.04026255 -0.35306646]\n",
      "[-0.04723882  0.02320106 -0.04732388 -0.07334645]\n",
      "[-0.0467748  -0.17121162 -0.04879081  0.20403807]\n",
      "[-0.05019903 -0.3656031  -0.04471005  0.48093948]\n",
      "[-0.05751109 -0.56006636 -0.03509126  0.75920249]\n",
      "[-0.06871242 -0.75468766 -0.01990721  1.04064001]\n",
      "[-0.08380617 -0.55930698  0.00090559  0.74177473]\n",
      "[-0.09499231 -0.36419754  0.01574109  0.44937694]\n",
      "[-0.10227626 -0.16930174  0.02472863  0.16169713]\n",
      "[-0.1056623   0.02545763  0.02796257 -0.12308313]\n",
      "[-0.10515314  0.22016804  0.02550091 -0.40681465]\n",
      "[-0.10074978  0.41491929  0.01736461 -0.69135008]\n",
      "[-0.0924514   0.60979605  0.00353761 -0.97851621]\n",
      "[-0.08025548  0.41462685 -0.01603271 -0.68472419]\n",
      "[-0.07196294  0.21973112 -0.0297272  -0.39713159]\n",
      "[-0.06756832  0.02504326 -0.03766983 -0.11396733]\n",
      "[-0.06706745  0.22068416 -0.03994918 -0.4182928 ]\n",
      "[-0.06265377  0.02615042 -0.04831503 -0.13846694]\n",
      "[-0.06213076 -0.16824743 -0.05108437  0.13859046]\n",
      "[-0.06549571 -0.3626019  -0.04831256  0.41472959]\n",
      "[-0.07274775 -0.55700699 -0.04001797  0.6917986 ]\n",
      "[-0.08388789 -0.75155153 -0.026182    0.97161964]\n",
      "[-0.09891892 -0.55608818 -0.0067496   0.67082846]\n",
      "[-0.11004068 -0.36087304  0.00666696  0.37602806]\n",
      "[-0.11725814 -0.16584642  0.01418753  0.0854547 ]\n",
      "[-0.12057507  0.02906932  0.01589662 -0.20271849]\n",
      "[-0.11999368  0.22396036  0.01184225 -0.49034471]\n",
      "[-0.11551447  0.41891327  0.00203536 -0.77927203]\n",
      "[-0.10713621  0.2237634  -0.01355008 -0.48594943]\n",
      "[-0.10266094  0.41907391 -0.02326907 -0.7828719 ]\n",
      "[-0.09427946  0.22427935 -0.03892651 -0.49759966]\n",
      "[-0.08979388  0.02972726 -0.0488785  -0.2174341 ]\n",
      "[-0.08919933 -0.16466312 -0.05322719  0.05943867]\n",
      "[-0.09249259 -0.35898309 -0.05203841  0.33486442]\n",
      "[-0.09967226 -0.5533273  -0.04534112  0.61069372]\n",
      "[-0.1107388  -0.74778714 -0.03312725  0.88875798]\n",
      "[-0.12569454 -0.94244425 -0.01535209  1.17084581]\n",
      "[-0.14454343 -0.74712606  0.00806483  0.87338971]\n",
      "[-0.15948595 -0.55211469  0.02553262  0.5832532 ]\n",
      "[-0.17052824 -0.35735957  0.03719768  0.29872152]\n",
      "[-0.17767544 -0.16278705  0.04317211  0.01799823]\n",
      "[-0.18093118  0.03169003  0.04353208 -0.26075692]\n",
      "[-0.18029738  0.22616439  0.03831694 -0.53939772]\n",
      "[-0.17577409  0.42072734  0.02752899 -0.8197655 ]\n",
      "[-0.16735954  0.61546194  0.01113368 -1.10366422]\n",
      "[-0.1550503   0.42019533 -0.01093961 -0.80750922]\n",
      "[-0.1466464   0.225225   -0.02708979 -0.51828742]\n",
      "[-0.1421419   0.03049472 -0.03745554 -0.23426259]\n",
      "[-0.141532   -0.16407261 -0.04214079  0.04637434]\n",
      "[-0.14481345  0.03162749 -0.04121331 -0.25930091]\n",
      "[-0.1441809  -0.16288261 -0.04639932  0.02010321]\n",
      "[-0.14743856  0.03287298 -0.04599726 -0.28685067]\n",
      "[-0.1467811  -0.16156384 -0.05173427 -0.00902234]\n",
      "[-0.15001237 -0.35590715 -0.05191472  0.26689951]\n",
      "[-0.15713052 -0.55025122 -0.04657673  0.54276679]\n",
      "[-0.16813554 -0.7446887  -0.03572139  0.8204181 ]\n",
      "[-0.18302932 -0.93930408 -0.01931303  1.10165508]\n",
      "[-0.2018154  -0.74393342  0.00272007  0.80297606]\n",
      "[-0.21669407 -0.54884887  0.01877959  0.51115002]\n",
      "[-0.22767104 -0.35399642  0.02900259  0.22444376]\n",
      "[-0.23475097 -0.15930073  0.03349147 -0.05895139]\n",
      "[-0.23793699  0.03532541  0.03231244 -0.34088223]\n",
      "[-0.23723048  0.22997307  0.02549479 -0.62320311]\n",
      "[-0.23263102  0.42472995  0.01303073 -0.90774883]\n",
      "[-0.22413642  0.22943404 -0.00512425 -0.61099892]\n",
      "[-0.21954774  0.03438408 -0.01734422 -0.31993435]\n",
      "[-0.21886005  0.22974869 -0.02374291 -0.61803613]\n",
      "[-0.21426508  0.03496631 -0.03610363 -0.33292466]\n",
      "[-0.21356575 -0.15962366 -0.04276213 -0.05184208]\n",
      "[-0.21675823  0.03608453 -0.04379897 -0.35770424]\n",
      "[-0.21603654 -0.15838827 -0.05095305 -0.07914758]\n",
      "[-0.2192043  -0.35274417 -0.052536    0.19703419]\n",
      "[-0.22625919 -0.15691166 -0.04859532 -0.11174777]\n",
      "[-0.22939742 -0.35130481 -0.05083028  0.16521633]\n",
      "[-0.23642352 -0.15549347 -0.04752595 -0.14305899]\n",
      "[-0.23953338 -0.3499037  -0.05038713  0.13425971]\n",
      "[-0.24653146 -0.15409757 -0.04770194 -0.17388426]\n",
      "[-0.24961341 -0.34850551 -0.05117962  0.10337688]\n",
      "[-0.25658352 -0.15268888 -0.04911208 -0.20500371]\n",
      "[-0.2596373  -0.34707536 -0.05321216  0.07179129]\n",
      "[-0.2665788  -0.15123251 -0.05177633 -0.23719417]\n",
      "[-0.26960345 -0.34557799 -0.05652021  0.03871795]\n",
      "[-0.27651501 -0.149693   -0.05574586 -0.27124843]\n",
      "[-0.27950887 -0.343977   -0.06117082  0.00334407]\n",
      "[-0.28638841 -0.53817076 -0.06110394  0.27611688]\n",
      "[-0.29715183 -0.34223267 -0.05558161 -0.03519513]\n",
      "[-0.30399648 -0.14635954 -0.05628551 -0.34488369]\n",
      "[-0.30692367 -0.34063752 -0.06318318 -0.07046742]\n",
      "[-0.31373642 -0.5347994  -0.06459253  0.20163077]\n",
      "[-0.32443241 -0.33881598 -0.06055991 -0.11070831]\n",
      "[-0.33120873 -0.53302021 -0.06277408  0.16227027]\n",
      "[-0.34186914 -0.33705839 -0.05952868 -0.14953695]\n",
      "[-0.3486103  -0.53127963 -0.06251941  0.12378776]\n",
      "[-0.3592359  -0.33532029 -0.06004366 -0.1879457 ]\n",
      "[-0.3659423  -0.5295341  -0.06380257  0.08520779]\n",
      "[-0.37653298 -0.33355835 -0.06209842 -0.22690294]\n",
      "[-0.38320415 -0.5277404  -0.06663648  0.04556352]\n",
      "[-0.39375896 -0.33172934 -0.06572521 -0.26737717]\n",
      "[-0.40039355 -0.52585472 -0.07107275  0.00387288]\n",
      "[-0.41091064 -0.71988922 -0.07099529  0.27331204]\n",
      "[-0.42530843 -0.52382986 -0.06552905 -0.04089124]\n",
      "[-0.43578502 -0.71795392 -0.06634688  0.23041813]\n",
      "[-0.4501441  -0.52194972 -0.06173851 -0.08243299]\n",
      "[-0.4605831  -0.71613482 -0.06338717  0.19015012]\n",
      "[-0.47490579 -0.52016601 -0.05958417 -0.1218361 ]\n",
      "[-0.48530911 -0.71438592 -0.06202089  0.15146939]\n",
      "[-0.49959683 -0.51843325 -0.0589915  -0.16011694]\n",
      "[-0.5099655  -0.71266321 -0.06219384  0.11338776]\n",
      "[-0.52421876 -0.51670778 -0.05992609 -0.1982503 ]\n",
      "[-0.53455292 -0.71092368 -0.06389109  0.0749429 ]\n",
      "[-0.54877139 -0.51494674 -0.06239224 -0.23719394]\n",
      "[-0.55907032 -0.7091244  -0.06713612  0.0351744 ]\n",
      "[-0.57325281 -0.51310714 -0.06643263 -0.27791231]\n",
      "[-0.58351495 -0.70722156 -0.07199087 -0.00689978]\n",
      "[-0.59765939 -0.51114495 -0.07212887 -0.32139992]\n",
      "[-0.60788228 -0.70516958 -0.07855687 -0.05230722]\n",
      "[-0.62198568 -0.89908237 -0.07960301  0.21459295]\n",
      "[-0.63996732 -0.70291794 -0.07531115 -0.10210049]\n",
      "[-0.65402568 -0.89688432 -0.07735316  0.16590382]\n",
      "[-0.67196337 -0.70074521 -0.07403509 -0.15014425]\n",
      "[-0.68597827 -0.89473323 -0.07703797  0.11829425]\n",
      "[-0.70387294 -0.69859686 -0.07467209 -0.19766447]\n",
      "[-0.71784487 -0.89257573 -0.07862538  0.07055981]\n",
      "[-0.73569639 -0.69641975 -0.07721418 -0.24585722]\n",
      "[-0.74962478 -0.89035884 -0.08213132  0.02150623]\n",
      "[-0.76743196 -0.69416096 -0.0817012  -0.29591803]\n",
      "[-0.78131518 -0.88802889 -0.08761956 -0.03007958]\n",
      "[-0.79907576 -1.08179218 -0.08822115  0.2337232 ]\n",
      "[-0.8207116  -0.88552774 -0.08354669 -0.08543196]\n",
      "[-0.83842216 -1.07935891 -0.08525533  0.17976651]\n",
      "[-0.86000933 -0.88312698 -0.08166    -0.13854701]\n",
      "[-0.87767187 -1.07699016 -0.08443094  0.12729736]\n",
      "[-0.89921168 -0.88076653 -0.08188499 -0.19078282]\n",
      "[-0.91682701 -1.07462738 -0.08570065  0.0749868 ]\n",
      "[-0.93831956 -0.87838803 -0.08420091 -0.24345705]\n",
      "[-0.95588732 -1.07221267 -0.08907005  0.02152405]\n",
      "[-0.97733157 -1.26595185 -0.08863957  0.28482882]\n",
      "[-1.00265061 -1.06968487 -0.08294299 -0.03444178]\n",
      "[-1.0240443  -1.26352549 -0.08363183  0.23096229]\n",
      "[-1.04931481 -1.06731425 -0.07901258 -0.08688501]\n",
      "[-1.0706611  -1.26121994 -0.08075028  0.17986055]\n",
      "[-1.0958855  -1.06504088 -0.07715307 -0.13716394]\n",
      "[-1.11718631 -1.25897784 -0.07989635  0.1302156 ]\n",
      "[-1.14236587 -1.06280768 -0.07729204 -0.1865655 ]\n",
      "[-1.16362203 -1.25674358 -0.08102335  0.0807686 ]\n",
      "[-1.1887569  -1.06055926 -0.07940798 -0.23633729]\n",
      "[-1.20996808 -1.25446221 -0.08413472  0.03027919]\n",
      "[-1.23505733 -1.44828316 -0.08352914  0.29527579]\n",
      "[-1.26402299 -1.25207587 -0.07762362 -0.02253804]\n",
      "[-1.28906451 -1.44600376 -0.07807438  0.24467943]\n",
      "[-1.31798458 -1.24985852 -0.07318079 -0.07157273]\n",
      "[-1.34298175 -1.44385917 -0.07461225  0.19715343]\n",
      "[-1.37185894 -1.2477537  -0.07066918 -0.11810203]\n",
      "[-1.39681401 -1.44179569 -0.07303122  0.15147501]\n",
      "[-1.42564992 -1.24570811 -0.07000172 -0.16332442]\n",
      "[-1.45056409 -1.43976177 -0.07326821  0.10647947]\n",
      "[-1.47935932 -1.24367049 -0.07113862 -0.20838988]\n",
      "[-1.50423273 -1.43770693 -0.07530642  0.0610315 ]\n",
      "[-1.53298687 -1.24159056 -0.07408579 -0.25442849]\n",
      "[-1.55781868 -1.4355808  -0.07917436  0.01399737]\n",
      "[-1.5865303  -1.23941792 -0.07889441 -0.30257814]\n",
      "[-1.61131866 -1.433332   -0.08494597 -0.03578268]\n",
      "[-1.6399853  -1.62713958 -0.08566163  0.22893636]\n",
      "[-1.67252809 -1.4309046  -0.0810829  -0.08949054]\n",
      "[-1.70114618 -1.62477636 -0.08287271  0.17654943]\n",
      "[-1.73364171 -1.42857222 -0.07934172 -0.14108343]\n",
      "[-1.76221315 -1.62247348 -0.08216339  0.12555146]\n",
      "[-1.79466262 -1.42627644 -0.07965236 -0.19188015]\n",
      "[-1.82318815 -1.62017392 -0.08348996  0.07465088]\n",
      "[-1.85559163 -1.42396045 -0.08199695 -0.24316167]\n",
      "[-1.88407084 -1.61782128 -0.08686018  0.02257245]\n",
      "[-1.91642726 -1.42156799 -0.08640873 -0.29620246]\n",
      "[-1.94485862 -1.61535865 -0.09233278 -0.03197356]\n",
      "[-1.97716579 -1.41904223 -0.09297225 -0.35230111]\n",
      "[-2.00554664 -1.61272759 -0.10001827 -0.0903223 ]\n",
      "[-2.03780119 -1.80628427 -0.10182472  0.16920536]\n",
      "[-2.07392688 -1.60986342 -0.09844061 -0.1537846 ]\n",
      "[-2.10612414 -1.80344813 -0.1015163   0.10629184]\n",
      "[-2.14219311 -1.60702899 -0.09939047 -0.21661457]\n",
      "Episode finished after 200 timesteps\n"
     ]
    }
   ],
   "source": [
    "for i_episode in range(1):\n",
    "    observation = env.reset()\n",
    "    for t in range(10000):\n",
    "        print(observation)\n",
    "        \n",
    "        # Randomly samples\n",
    "        # action = env.action_space.sample()\n",
    "\n",
    "        # Use policy\n",
    "        action = dqn.predict([observation])[0]\n",
    "\n",
    "        observation, reward, done, info = env.step(action)\n",
    "        if done:\n",
    "            print(\"Episode finished after {} timesteps\".format(t+1))\n",
    "            break\n",
    "env.close()"
   ]
  },
  {
   "cell_type": "code",
   "execution_count": null,
   "metadata": {},
   "outputs": [],
   "source": []
  }
 ],
 "metadata": {
  "interpreter": {
   "hash": "7c7d504e16c03c5831dbe15b02b210cb88fcee0d0b483c187029a9549456c8e0"
  },
  "kernelspec": {
   "display_name": "Python 3.7.4 ('.venv': venv)",
   "language": "python",
   "name": "python3"
  },
  "language_info": {
   "codemirror_mode": {
    "name": "ipython",
    "version": 3
   },
   "file_extension": ".py",
   "mimetype": "text/x-python",
   "name": "python",
   "nbconvert_exporter": "python",
   "pygments_lexer": "ipython3",
   "version": "3.7.4"
  },
  "orig_nbformat": 4
 },
 "nbformat": 4,
 "nbformat_minor": 2
}
